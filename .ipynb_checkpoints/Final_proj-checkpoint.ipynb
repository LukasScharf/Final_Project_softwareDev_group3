{
 "cells": [
  {
   "cell_type": "markdown",
   "id": "fb68abfe-0ad0-4b51-8d39-cef99f863f5e",
   "metadata": {},
   "source": [
    "# Final project (Group 3)\n",
    "This is the main notebook for the final project "
   ]
  },
  {
   "cell_type": "code",
   "execution_count": null,
   "id": "0ef6e536-d335-4962-8073-8905afebf4cf",
   "metadata": {},
   "outputs": [],
   "source": [
    "import mapFunctions as mf\n",
    "import plotFunctions as pf\n",
    "import routingFunctions as rf\n",
    "import pandas as pd"
   ]
  }
 ],
 "metadata": {
  "kernelspec": {
   "display_name": "Python 3 (ipykernel)",
   "language": "python",
   "name": "python3"
  },
  "language_info": {
   "codemirror_mode": {
    "name": "ipython",
    "version": 3
   },
   "file_extension": ".py",
   "mimetype": "text/x-python",
   "name": "python",
   "nbconvert_exporter": "python",
   "pygments_lexer": "ipython3",
   "version": "3.10.12"
  }
 },
 "nbformat": 4,
 "nbformat_minor": 5
}
